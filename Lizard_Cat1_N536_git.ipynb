{
 "cells": [
  {
   "cell_type": "code",
   "execution_count": 20,
   "metadata": {},
   "outputs": [],
   "source": [
    "import time\n",
    "import tensorflow as tf\n",
    "LWE_N=536\n",
    "LWE_M=1024\n",
    "LWE_L=256\n",
    "Q=2048\n",
    "P=512\n",
    "_16_LOG_Q=5\n",
    "_32_LOG_Q=21\n",
    "_16_LOG_T= 15\n",
    "KeyTime=0\n",
    "GEncTime=0\n",
    "GDecTime=0"
   ]
  },
  {
   "cell_type": "code",
   "execution_count": 21,
   "metadata": {
    "scrolled": true
   },
   "outputs": [],
   "source": [
    "def gen_pk_A():     \n",
    "    global KeyTime\n",
    "    Key_A_start=time.time()\n",
    "    pk_A=tf.random_uniform([LWE_M, LWE_N], minval=0, maxval=Q, dtype=tf.int32, seed=None, name=None)\n",
    "    pk_Ai32=tf.bitwise.left_shift(pk_A, _32_LOG_Q)\n",
    "    pk_A=tf.cast(pk_A, tf.uint16)    \n",
    "    KeyTime=time.time()-Key_A_start\n",
    "    return pk_A, pk_Ai32"
   ]
  },
  {
   "cell_type": "code",
   "execution_count": 22,
   "metadata": {},
   "outputs": [],
   "source": [
    "def gen_sk_S():\n",
    "    global KeyTime\n",
    "    Key_S_start=time.time()\n",
    "    x=tf.random_uniform([LWE_N, LWE_L], minval=0, maxval=101, dtype=tf.int32)\n",
    "    c1=tf.fill([LWE_N, LWE_L], -1)\n",
    "    r1=tf.where(tf.less(x, 25), c1, c1+1)\n",
    "    r2=tf.where(tf.greater(x, 75), c1+2, r1)\n",
    "    sk_S=tf.cast(r2, tf.uint16)\n",
    "    sk_Si32=tf.cast(sk_S, tf.int32)\n",
    "    KeyTime=time.time()-Key_S_start\n",
    "    return sk_S, sk_Si32"
   ]
  },
  {
   "cell_type": "code",
   "execution_count": 23,
   "metadata": {},
   "outputs": [],
   "source": [
    "def gen_E():\n",
    "    rnd=tf.random_uniform([LWE_M, LWE_L], minval=0, maxval=512, dtype=tf.int32, seed=None, name=None)\n",
    "    sign=tf.random_uniform([LWE_M, LWE_L], minval=0, maxval=2, dtype=tf.int32, seed=None, name=None)\n",
    "    sign=2*sign-1\n",
    "    cdf1=tf.fill([LWE_M, LWE_L], 8)\n",
    "\n",
    "    r1=tf.where(tf.less(rnd, 511), cdf1-1, cdf1)\n",
    "    r2=tf.where(tf.less(rnd, 507), cdf1-2, r1)\n",
    "    r3=tf.where(tf.less(rnd, 496), cdf1-3, r2)\n",
    "    r4=tf.where(tf.less(rnd, 474), cdf1-4, r3)\n",
    "    r5=tf.where(tf.less(rnd, 426), cdf1-5, r4)\n",
    "    r6=tf.where(tf.less(rnd, 345), cdf1-6, r5)\n",
    "    r7=tf.where(tf.less(rnd, 227), cdf1-7, r6)\n",
    "    r8=tf.where(tf.less(rnd, 79), cdf1-8, r7)\n",
    "    r9=r8*sign\n",
    "    E_matrix=tf.cast(r9, tf.uint16)\n",
    "    E_matrix=tf.bitwise.left_shift(E_matrix, _16_LOG_Q) \n",
    "    \n",
    "    E_matrix=tf.cast(E_matrix, tf.int32)\n",
    "    return E_matrix"
   ]
  },
  {
   "cell_type": "code",
   "execution_count": 24,
   "metadata": {},
   "outputs": [],
   "source": [
    "def gen_pk_B(pk_Ai32, sk_Si32):\n",
    "    global KeyTime\n",
    "    Key_B_start=time.time()\n",
    "    \n",
    "    E_matrix=gen_E()\n",
    "    \n",
    "    pk_B=tf.subtract(E_matrix, tf.matmul(pk_Ai32, sk_Si32, b_is_sparse=True))\n",
    "    pk_B=tf.cast(pk_B, tf.uint16)\n",
    "    pk_Bi32=tf.cast(pk_B, tf.int32)\n",
    "    KeyTime=time.time()-Key_B_start\n",
    "    return pk_B, pk_Bi32 "
   ]
  },
  {
   "cell_type": "code",
   "execution_count": 25,
   "metadata": {},
   "outputs": [
    {
     "name": "stdout",
     "output_type": "stream",
     "text": [
      "Keygen :  22.937 ms\n"
     ]
    }
   ],
   "source": [
    "iter=100\n",
    "totalkey=0\n",
    "\n",
    "for i in range(iter):\n",
    "    #######Key_generator##############\n",
    "    pk_A, pk_Ai32=gen_pk_A()\n",
    "    sk_S, sk_Si32=gen_sk_S()\n",
    "    pk_B, pk_Bi32=gen_pk_B(pk_Ai32, sk_Si32)\n",
    "    totalkey=totalkey+KeyTime\n",
    "\n",
    "print(\"Keygen : \", round(totalkey*1000/iter,3), \"ms\")\n"
   ]
  },
  {
   "cell_type": "code",
   "execution_count": null,
   "metadata": {},
   "outputs": [],
   "source": []
  },
  {
   "cell_type": "code",
   "execution_count": null,
   "metadata": {},
   "outputs": [],
   "source": []
  },
  {
   "cell_type": "code",
   "execution_count": null,
   "metadata": {},
   "outputs": [],
   "source": []
  }
 ],
 "metadata": {
  "kernelspec": {
   "display_name": "tensorflow",
   "language": "python",
   "name": "tensorflow"
  },
  "language_info": {
   "codemirror_mode": {
    "name": "ipython",
    "version": 3
   },
   "file_extension": ".py",
   "mimetype": "text/x-python",
   "name": "python",
   "nbconvert_exporter": "python",
   "pygments_lexer": "ipython3",
   "version": "3.6.6"
  }
 },
 "nbformat": 4,
 "nbformat_minor": 2
}

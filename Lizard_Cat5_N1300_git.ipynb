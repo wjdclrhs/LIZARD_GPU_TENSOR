{
 "cells": [
  {
   "cell_type": "code",
   "execution_count": 9,
   "metadata": {},
   "outputs": [],
   "source": [
    "import time\n",
    "import tensorflow as tf\n",
    "\n",
    "LWE_N=1300\n",
    "LWE_M=2048\n",
    "LWE_L=512\n",
    "Q=2048\n",
    "P=512\n",
    "_16_LOG_Q=5\n",
    "_32_LOG_Q=21\n",
    "_16_LOG_T= 15\n",
    "KeyTime=0"
   ]
  },
  {
   "cell_type": "code",
   "execution_count": 10,
   "metadata": {
    "scrolled": true
   },
   "outputs": [],
   "source": [
    "def gen_pk_A():     \n",
    "    global KeyTime\n",
    "    Key_A_start=time.time()\n",
    "    pk_A=tf.random_uniform([LWE_M, LWE_N], minval=0, maxval=Q, dtype=tf.int32, seed=None, name=None)\n",
    "    pk_Ai32=tf.bitwise.left_shift(pk_A, _32_LOG_Q)\n",
    "    pk_A=tf.cast(pk_A, tf.uint16)    \n",
    "    KeyTime=time.time()-Key_A_start\n",
    "    return pk_A, pk_Ai32"
   ]
  },
  {
   "cell_type": "code",
   "execution_count": 11,
   "metadata": {},
   "outputs": [],
   "source": [
    "def gen_sk_S():\n",
    "    global KeyTime\n",
    "    Key_S_start=time.time()\n",
    "    x=tf.random_uniform([LWE_N, LWE_L], minval=0, maxval=1001, dtype=tf.int32)\n",
    "    c1=tf.fill([LWE_N, LWE_L], -1)\n",
    "    r1=tf.where(tf.less(x, 125), c1, c1+1)\n",
    "    r2=tf.where(tf.greater(x, 875), c1+2, r1)\n",
    "    sk_S=tf.cast(r2, tf.uint16)\n",
    "    sk_Si32=tf.cast(sk_S, tf.int32)\n",
    "    KeyTime=time.time()-Key_S_start\n",
    "    return sk_S, sk_Si32"
   ]
  },
  {
   "cell_type": "code",
   "execution_count": 14,
   "metadata": {},
   "outputs": [],
   "source": [
    "def gen_E():\n",
    "    rnd=tf.random_uniform([LWE_M, LWE_L], minval=0, maxval=1024, dtype=tf.int32, seed=None, name=None)\n",
    "    sign=tf.random_uniform([LWE_M, LWE_L], minval=0, maxval=2, dtype=tf.int32, seed=None, name=None)\n",
    "    sign=2*sign-1\n",
    "    cdf1=tf.fill([LWE_M, LWE_L], 3)\n",
    "\n",
    "    r1=tf.where(tf.less(rnd, 1009), cdf1-1, cdf1)\n",
    "    r2=tf.where(tf.less(rnd, 875), cdf1-2, r1)\n",
    "    r3=tf.where(tf.less(rnd, 381), cdf1-3, r2)\n",
    "\n",
    "    r9=r3*sign\n",
    "    E_matrix=tf.cast(r9, tf.uint16)\n",
    "    E_matrix=tf.bitwise.left_shift(E_matrix, _16_LOG_Q) \n",
    "    \n",
    "    E_matrix=tf.cast(E_matrix, tf.int32)\n",
    "\n",
    "    return E_matrix"
   ]
  },
  {
   "cell_type": "code",
   "execution_count": 15,
   "metadata": {},
   "outputs": [],
   "source": [
    "def gen_pk_B(pk_Ai32, sk_Si32):\n",
    "    global KeyTime\n",
    "    Key_B_start=time.time()\n",
    "    E_matrix=gen_E()\n",
    "    pk_B=tf.subtract(E_matrix, tf.matmul(pk_Ai32, sk_Si32, b_is_sparse=True))\n",
    "    pk_B=tf.cast(pk_B, tf.uint16)\n",
    "    pk_Bi32=tf.cast(pk_B, tf.int32)\n",
    "    KeyTime=time.time()-Key_B_start\n",
    "    return pk_B, pk_Bi32 "
   ]
  },
  {
   "cell_type": "code",
   "execution_count": 17,
   "metadata": {
    "scrolled": true
   },
   "outputs": [
    {
     "name": "stdout",
     "output_type": "stream",
     "text": [
      "Keygen :  28.956 ms\n"
     ]
    }
   ],
   "source": [
    "iter=5000\n",
    "totalkey=0\n",
    "for i in range(iter):\n",
    "    #######Key_generator##############\n",
    "    pk_A, pk_Ai32=gen_pk_A()\n",
    "    sk_S, sk_Si32=gen_sk_S()\n",
    "    pk_B, pk_Bi32=gen_pk_B(pk_Ai32, sk_Si32)\n",
    "    totalkey=totalkey+KeyTime\n",
    "    \n",
    "print(\"Keygen : \", round(totalkey*1000/iter,3), \"ms\")\n"
   ]
  },
  {
   "cell_type": "code",
   "execution_count": null,
   "metadata": {},
   "outputs": [],
   "source": []
  },
  {
   "cell_type": "code",
   "execution_count": null,
   "metadata": {},
   "outputs": [],
   "source": []
  },
  {
   "cell_type": "code",
   "execution_count": null,
   "metadata": {},
   "outputs": [],
   "source": []
  },
  {
   "cell_type": "code",
   "execution_count": null,
   "metadata": {},
   "outputs": [],
   "source": []
  }
 ],
 "metadata": {
  "kernelspec": {
   "display_name": "tensorflow",
   "language": "python",
   "name": "tensorflow"
  },
  "language_info": {
   "codemirror_mode": {
    "name": "ipython",
    "version": 3
   },
   "file_extension": ".py",
   "mimetype": "text/x-python",
   "name": "python",
   "nbconvert_exporter": "python",
   "pygments_lexer": "ipython3",
   "version": "3.6.6"
  }
 },
 "nbformat": 4,
 "nbformat_minor": 2
}
